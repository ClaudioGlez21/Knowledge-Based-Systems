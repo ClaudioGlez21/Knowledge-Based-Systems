{
 "cells": [
  {
   "cell_type": "markdown",
   "id": "9a342e21-82c1-4867-b3ff-5e6295972cdb",
   "metadata": {},
   "source": [
    "Claudio Gonzalez\n",
    "A00232276"
   ]
  },
  {
   "cell_type": "code",
   "execution_count": 2,
   "id": "4befcded",
   "metadata": {},
   "outputs": [],
   "source": [
    "from utils import *\n",
    "from logic import *\n",
    "from sympy import Symbol,symbols\n",
    "from agents import*\n",
    "from csp import *\n",
    "from search import *\n"
   ]
  },
  {
   "cell_type": "markdown",
   "id": "a1dc974a",
   "metadata": {},
   "source": [
    "### Ejercicio 1 (25 puntos)\n",
    "Represente en Python las siguientes sentencias, y utilice un algoritmo de inferencia (también en Python) para determinar cuál de ellas es correcta.\n",
    "\n"
   ]
  },
  {
   "cell_type": "code",
   "execution_count": 51,
   "id": "6c177533-dd17-4b28-ad27-a06e7260ceac",
   "metadata": {},
   "outputs": [
    {
     "name": "stdout",
     "output_type": "stream",
     "text": [
      "True\n",
      "False\n",
      "True\n",
      "True\n",
      "True\n",
      "False\n",
      "{A: True, B: False}\n",
      "{A: True, B: True}\n",
      "{Fire: False}\n",
      "{Fire: True}\n"
     ]
    }
   ],
   "source": [
    "(A, B, C, D, E, S, F, H) = symbols('A, B, C, D, E, Smoke, Fire, Heat')\n",
    "\n",
    "#1 \n",
    "print(tt_entails((A & B),(A |'<=>'| B)))\n",
    "\n",
    "#2\n",
    "print(tt_entails((A |'<=>'| B), (A | B)))\n",
    "\n",
    "#3\n",
    "print(tt_entails((A |'<=>'| B), (~A | B)))\n",
    "\n",
    "#4\n",
    "print(tt_entails((A & B) |'==>'| C, (A |'==>'| C) | (B |'==>'| C)))\n",
    "\n",
    "#5\n",
    "print(tt_entails((A | B) & (~C | ~D | E), A | B))\n",
    "\n",
    "#6\n",
    "print(tt_entails((A | B) & (~C | ~D | E), (A | B) & (~D | E)))\n",
    "#7\n",
    "print(dpll_satisfiable((A | B) & ~(A |'==>'| B)))\n",
    "\n",
    "#8\n",
    "print(dpll_satisfiable((A |'<=>'| B) & (~A | B)))\n",
    "#9\n",
    "print(dpll_satisfiable((S |'==>'| F) |'==>'| (~S |'==>'| ~F)))\n",
    "#10\n",
    "print(dpll_satisfiable(((S & H) |'==>'| F) |'<=>'| ((S |'==>'| F) | (H |'==>'| F))))\n",
    "\n",
    "\n",
    "\n",
    "\n"
   ]
  },
  {
   "cell_type": "markdown",
   "id": "a840b125",
   "metadata": {},
   "source": [
    "### Ejercicio 2 (25 puntos)\n",
    "En una inscripción antigua encontrada en una ciudad perdida de Europa se logra distinguir la siguiente leyenda:\n",
    "\n",
    "\"Si el unicornio es una criatura mítica, entonces es inmortal, pero si no es mítico, entonces es un mamífero mortal. Si el unicornio es inmortal o un mamífero mortal, entonces tiene cuernos. El unicornio es mágico si tiene cuernos.\"\n",
    "\n",
    "Dado este descubrimiento, se desea contestar las siguientes preguntas:\n",
    "\n",
    "¿Es el unicornio un ser mítico?\n",
    "¿Es el unicornio un ser mágico?\n",
    "¿El unicornio tiene cuernos?\n",
    "Escriba un programa en Python que utilice el algoritmo de Resolución para dar respuesta a estas preguntas.\n",
    "\n"
   ]
  },
  {
   "cell_type": "code",
   "execution_count": 52,
   "id": "8a5ceedf",
   "metadata": {},
   "outputs": [
    {
     "name": "stdout",
     "output_type": "stream",
     "text": [
      "¿Es el unicornio un ser mítico?\n",
      "False\n",
      "¿Es el unicornio un ser mágico?\n",
      "True\n",
      "¿El unicornio tiene cuernos?\n",
      "True\n"
     ]
    }
   ],
   "source": [
    "\n",
    "# Definimos los símbolos para las proposiciones:\n",
    "U = Symbol('U')  # Unicornio es mitico\n",
    "M = Symbol('M')  # Mamifero\n",
    "I = Symbol('I')  # Unicornio Inmortal\n",
    "C = Symbol('C')  # Cuernos\n",
    "G = Symbol('G')  # Mágico\n",
    "\n",
    "# Representamos las premisas de la leyenda como proposiciones lógicas:\n",
    "p1 =  U |'==>'| I  # Si el unicornio es una criatura mítica, entonces es inmortal\n",
    "p2 = ~U |'==>'| (M & ~I)  # Si no es mítico, entonces es un mamífero mortal\n",
    "p3 = (I | (M & ~I)) |'==>'| C   # Si es inmortal o un mamífero mortal, entonces tiene cuernos\n",
    "p4 = C |'==>'| G  # Si tiene cuernos, es mágico\n",
    "\n",
    "# Base de conocimiento de proposiciones lógicas:\n",
    "kb = PropKB()\n",
    "kb.tell(p1)\n",
    "kb.tell(p2)\n",
    "kb.tell(p3)\n",
    "kb.tell(p4)\n",
    "\n",
    "print(\"¿Es el unicornio un ser mítico?\")\n",
    "print(kb.ask_if_true(U)) \n",
    "\n",
    "print(\"¿Es el unicornio un ser mágico?\")\n",
    "print(kb.ask_if_true(G))\n",
    "\n",
    "print(\"¿El unicornio tiene cuernos?\")\n",
    "print(kb.ask_if_true(C)) \n"
   ]
  },
  {
   "cell_type": "markdown",
   "id": "6ac17220",
   "metadata": {},
   "source": [
    "### Ejercicio 3 (25 puntos)\n",
    "\n",
    "\n",
    "\"Las personas que no consumen carne ni pescado son vegetarianas\".\n",
    "\"Los veganos no consumen alimentos de origen animal ni productos lácteos\".\n",
    "\"Consumir carne es consumir alimento de origen animal\".\n",
    "\"Consumir peces es consumir alimento de origen animal\".\n",
    "Escriban un programa en Python que demuestre con lógica proposicional si la siguiente afirmación es verdadera: \"los veganos son vegetarianos\". Utilicen cualquier algoritmo de inferencia que tengan a su disposición.\n",
    "\n"
   ]
  },
  {
   "cell_type": "code",
   "execution_count": 53,
   "id": "204576db",
   "metadata": {},
   "outputs": [
    {
     "name": "stdout",
     "output_type": "stream",
     "text": [
      "¿Los veganos son vegetarianos?\n",
      "True\n"
     ]
    }
   ],
   "source": [
    "# Definimos los símbolos para las proposiciones:\n",
    "C = Symbol('C')  # Consume carne\n",
    "P = Symbol('P')  # Consume pescado\n",
    "L = Symbol('L')  #Consume lacteos\n",
    "V = Symbol('V')  # Vegano\n",
    "G = Symbol('G')  # Vegetariano\n",
    "A = Symbol('A') #Alimento de origna animal\n",
    "\n",
    "# proposiciones lógicas:\n",
    "p1 = (~C & ~P) |'==>'| G  # Las personas que no consumen carne ni pescado son vegetarianas\n",
    "p2 = V |'==>'| ~C & ~P & ~L  # Los veganos no consumen alimentos de origen animal ni productos lácteos\n",
    "p3 = C |'==>'| A  # Consumir carne es consumir alimento de origen animal\n",
    "p4 = P |'==>'| A  # Consumir peces es consumir alimento de origen animal\n",
    "\n",
    "# base de conocimiento de proposiciones lógicas:\n",
    "kb = PropKB()\n",
    "kb.tell(p1)\n",
    "kb.tell(p2)\n",
    "kb.tell(p3)\n",
    "kb.tell(p4)\n",
    "\n",
    "afirmacion = V |'==>'| G  # Los veganos son vegetarianos\n",
    "\n",
    "print(\"¿Los veganos son vegetarianos?\")\n",
    "print(kb.ask_if_true(afirmacion))\n"
   ]
  },
  {
   "cell_type": "markdown",
   "id": "62ec5493",
   "metadata": {},
   "source": [
    "### Ejercicio 4 (25 puntos)\n",
    "Se tienen seis figuras a, b, c, d, e y f las cuales pueden ser de tres tamaños distintos (chica, mediana o grande) y de tres formas distintas (triángulo, cuadrado o pentágono). A partir de la siguiente información, se desea determinar la forma y tamaño de cada una de las figuras.\n",
    "\n",
    "Si a es un triángulo, entonces b también es un triángulo.\n",
    "c es un triángulo si b lo es.\n",
    "a y c son ambos triángulos solo si al menos uno de ellos es grande.\n",
    "a es un triángulo, pero c no es grande.\n",
    "Si c es pequeño y d es un pentágono, entonces d no es ni grande ni pequeño.\n",
    "c es mediano solo si ninguno de d, e y f son cuadrados.\n",
    "d es un pentágono pequeño a menos que a sea pequeño.\n",
    "e es grande solo si es un hecho que d es grande si y sólo si f lo es.\n",
    "d y e son del mismo tamaño.\n",
    "d y e tienen la misma forma.\n",
    "f es un cuadrado o un pentágono, si es grande.\n",
    "c es más grande que e solo si b es más grande que c.Escriban un programa en Python que determine la forma y el tamaño de cada figura utilizando lógica proposicional. Para ello, utilicen el algoritmo DPLL de inferencia para encontrar su solución. "
   ]
  },
  {
   "cell_type": "code",
   "execution_count": 54,
   "id": "1256a294-608d-468c-bac5-4c81227cd2f5",
   "metadata": {},
   "outputs": [
    {
     "name": "stdout",
     "output_type": "stream",
     "text": [
      "La solución es:  [(A_t, True), (B_t, True), (C_t, True), (A_gd, True), (D_p, True), (D_ch, True), (C_md, True), (E_ch, True), (B_gd, True), (E_p, True), (F_t, True), (F_md, True)]\n",
      "---------  ---------  ---------  ---------  ---------  ---------\n",
      "a          b          c          d          e          f\n",
      "Triángulo  Triángulo  Triángulo  Pentágono  Pentágono  Triángulo\n",
      "Grande     Grande     Mediano    Chico      Chico      Chico\n",
      "---------  ---------  ---------  ---------  ---------  ---------\n"
     ]
    }
   ],
   "source": [
    "from tabulate import tabulate\n",
    "\n",
    "\"\"\"\n",
    "z_ch: z es chica\n",
    "z_md: z es mediana\n",
    "z_gd: z es grande\n",
    "z4_t: z es triangulo\n",
    "z5_c: z es cuadrado\n",
    "z6_p: z es pentagono\n",
    "z = {a,b,c,d,e,f}\n",
    "\"\"\"\n",
    "\n",
    "a_ch, a_md, a_gd, a_t, a_c, a_p, b_ch, b_md, b_gd, b_t, b_c, b_p, c_ch, c_md, c_gd, c_t, c_c, c_p, d_ch, d_md, d_gd, d_t, d_c, d_p, e_ch, e_md, e_gd, e_t, e_c, e_p, f_ch, f_md, f_gd, f_t, f_c, f_p = symbols('A_ch, A_md, A_gd, A_t, A_c, A_p, B_ch, B_md, B_gd, B_t, Bb_c, B_p, C_ch, C_md, C_gd, C_t, C_c, C_p, D_ch, D_md, D_gd, D_t, D_c, D_p, E_ch, E_md, E_gd, E_t, E_c, E_p, F_ch, F_md, F_gd, F_t, F_c, F_p')\n",
    "\n",
    "\n",
    "\n",
    "R1 = a_t |'==>'| b_t\n",
    "R2 = b_t |'==>'| c_t\n",
    "R3 = (a_t & c_t) |'==>'| (a_gd | c_gd)\n",
    "R4 = a_t & ~c_gd\n",
    "R5 = (c_ch & d_p) |'==>'| (~d_gd & ~d_ch)\n",
    "R6 = c_md |'==>'| (~d_c & ~e_c & ~f_c)\n",
    "R7 = ~a_ch |'==>'| (d_p & d_ch)\n",
    "R8 = e_gd |'==>'| (d_gd |'<=>'| f_gd)\n",
    "R9 = (d_ch & e_ch) | (d_md & e_md) | (d_gd & e_gd)\n",
    "R10 = (d_t & e_t) | (d_c & e_c) | (d_p & e_p)\n",
    "R11 = f_gd |'==>'| (f_c & f_p)\n",
    "R12 = (c_md & e_ch) | (c_gd & e_md) | (c_gd & e_ch) |'==>'| (b_md & c_ch) | (b_gd & c_md) | (b_gd & c_ch)\n",
    "\n",
    "\n",
    "R13 = (a_ch & ~a_md & ~a_gd) | (~a_ch & a_md & ~a_gd) | (~a_ch & ~a_md & a_gd)\n",
    "R14 = (b_ch & ~b_md & ~b_gd) | (~b_ch & b_md & ~b_gd) | (~b_ch & ~b_md & b_gd)\n",
    "R15 = (c_ch & ~c_md & ~c_gd) | (~c_ch & c_md & ~c_gd) | (~c_ch & ~c_md & c_gd)\n",
    "R16 = (d_ch & ~d_md & ~d_gd) | (~d_ch & d_md & ~d_gd) | (~d_ch & ~d_md & d_gd)\n",
    "R17 = (e_ch & ~e_md & ~e_gd) | (~e_ch & e_md & ~e_gd) | (~e_ch & ~e_md & e_gd)\n",
    "R18 = (f_ch & ~f_md & ~f_gd) | (~f_ch & f_md & ~f_gd) | (~f_ch & ~f_md & f_gd)\n",
    "R19 = (a_t & ~a_c & ~a_p) | (~a_t & a_c & a_p) | (~a_t & ~a_c & a_p)\n",
    "R20 = (b_t & ~b_c & ~b_p) | (~b_t & b_c & ~b_p) | (~b_t & ~b_c & b_p)\n",
    "R21 = (c_t & ~c_c & ~c_p) | (~c_t & c_c & ~c_p) | (~c_t & ~c_c & c_p)\n",
    "R22 = (d_t & ~d_c & ~d_p) | (~d_t & d_c & ~d_p) | (~d_t & ~d_c & d_p)\n",
    "R23 = (e_t & ~e_c & ~e_p) | (~e_t & e_c & ~e_p) | (~e_t & ~e_c & e_p)\n",
    "R24 = (f_t & ~f_c & ~f_p) | (~f_t & f_c & ~f_p) | (~f_t & ~f_c & f_p)\n",
    "\n",
    "#Solution with DPLL\n",
    "cl_conjunction = R1 & R2 & R3 & R4 & R5 & R6 & R7 & R8 & R9 & R10 & R11 & R12 & R13 & R14 & R15 & R16 & R17 & R18 & R19 & R20 & R21 & R22 & R23 & R24\n",
    "dic_keys = list(dpll_satisfiable(cl_conjunction).items())\n",
    "solution = []\n",
    "for i in dic_keys:\n",
    "    if i[1] == True:\n",
    "        solution.append(i)\n",
    "#Results table\n",
    "results = [\n",
    "    ['a', 'b', 'c', 'd', 'e', 'f'],\n",
    "      ['Triángulo', 'Triángulo', 'Triángulo', 'Pentágono', 'Pentágono', 'Triángulo'],\n",
    "      ['Grande', 'Grande', 'Mediano', 'Chico', 'Chico', 'Chico']\n",
    "]\n",
    "\n",
    "print('La solución es: ', solution)\n",
    "print(tabulate(results))\n"
   ]
  },
  {
   "cell_type": "code",
   "execution_count": null,
   "id": "c8a6c50c-4c63-4d8f-8870-a23bf02d111b",
   "metadata": {},
   "outputs": [],
   "source": []
  }
 ],
 "metadata": {
  "kernelspec": {
   "display_name": "Python 3 (ipykernel)",
   "language": "python",
   "name": "python3"
  },
  "language_info": {
   "codemirror_mode": {
    "name": "ipython",
    "version": 3
   },
   "file_extension": ".py",
   "mimetype": "text/x-python",
   "name": "python",
   "nbconvert_exporter": "python",
   "pygments_lexer": "ipython3",
   "version": "3.12.1"
  }
 },
 "nbformat": 4,
 "nbformat_minor": 5
}
